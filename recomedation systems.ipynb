{
 "cells": [
  {
   "cell_type": "markdown",
   "id": "b41449d1",
   "metadata": {},
   "source": [
    "# Рекомендательные системы"
   ]
  },
  {
   "cell_type": "code",
   "execution_count": 1,
   "id": "440d9c32",
   "metadata": {},
   "outputs": [
    {
     "name": "stderr",
     "output_type": "stream",
     "text": [
      "C:\\Users\\Admin\\miniconda3\\lib\\site-packages\\gensim\\similarities\\__init__.py:15: UserWarning: The gensim.similarities.levenshtein submodule is disabled, because the optional Levenshtein package <https://pypi.org/project/python-Levenshtein/> is unavailable. Install Levenhstein (e.g. `pip install python-Levenshtein`) to suppress this warning.\n",
      "  warnings.warn(msg)\n"
     ]
    }
   ],
   "source": [
    "import pandas as pd\n",
    "import numpy as np\n",
    "import random\n",
    "import matplotlib.pyplot as plt\n",
    "\n",
    "from gensim.models.doc2vec import Doc2Vec\n",
    "\n",
    "import ipywidgets as widgets\n",
    "from ipywidgets import interact, interact_manual\n",
    "\n",
    "chipselect_freq = ['вид', 'площадка', 'самолет', 'аэропорт', 'конструкция', 'помещение', 'площадь', 'ангар', \n",
    "                   'бизнес', 'салон', 'зал', 'офис', 'парковка', 'крыша', 'кафе', 'интерьер', 'дом', 'центр', \n",
    "                   'комплекс', 'клуб', 'квартира', 'студия', 'парк', 'лофт', 'ресторан', 'бар', 'клиника', 'тц',\n",
    "                   'магазин', 'мастерская', 'таунхаус']\n",
    "chipselect_cat = ['учреждение', 'бассейн', 'баня', 'сауна', 'футбол', 'баскетболла', 'волейболла', 'теннис', \n",
    "                  'зала', 'манежы', 'стадион', 'вид', 'спорт', 'бокс', 'борьба', 'фитнес', 'клуб', 'отель', \n",
    "                  'гостиница', 'хостел', 'район', 'квартира', 'ресторан', 'кафе', 'арбат', 'холл', 'супермаркет', \n",
    "                  'рынок', 'парк', 'пространство', 'площадка', 'салон', 'красота', 'клиника', 'тц', 'магазин', 'офис', \n",
    "                  'библиотека', 'промзона', 'площадь', 'крыша', 'кабинет', 'комплекс', 'подъезд', 'подвал', 'здание', \n",
    "                  'мастерская', 'студия', 'марьин', 'роща', 'кинотеатр', 'дом', 'таунхаус', 'театр', 'школа', 'автосервис',\n",
    "                  'автотрасса', 'усадьба', 'гараж', 'парковка', 'аэропорт', 'бар', 'гора', 'конференц', 'зал', 'поселок', \n",
    "                  'озеро', 'река', 'кладбище', 'церковь', 'бизнес', 'квартал', 'центр', 'университет', 'больница', \n",
    "                  'набережная', 'пляж', 'люблино', 'печатник', 'лаборатория',  'арт', 'галерея','дорога']\n",
    "\n",
    "model = Doc2Vec.load('doc2vec with parametrs') \n",
    "df = pd.read_csv('clustered data.csv')\n",
    "queries = np.unique(df.desc.unique())\n",
    "tags = np.unique(chipselect_freq+chipselect_cat)"
   ]
  },
  {
   "cell_type": "markdown",
   "id": "aeeecb5a",
   "metadata": {},
   "source": [
    "## Наиболее похожие (основываясь на результатах Doc2Vec)"
   ]
  },
  {
   "cell_type": "code",
   "execution_count": 2,
   "id": "4dddf757",
   "metadata": {},
   "outputs": [
    {
     "data": {
      "application/vnd.jupyter.widget-view+json": {
       "model_id": "ab8128ea90554f3d827b50d7ecef7aba",
       "version_major": 2,
       "version_minor": 0
      },
      "text/plain": [
       "interactive(children=(Dropdown(description='search_query', options=('   Москва\\\\t\\\\t\\\\t\\\\t\\\\t\\\\t\\\\t\\\\t  ЦАО\\\\t…"
      ]
     },
     "metadata": {},
     "output_type": "display_data"
    }
   ],
   "source": [
    "@interact\n",
    "def d2v_similar(search_query=queries):\n",
    "    i = df[df.desc == search_query].index[0]\n",
    "    ind = model.dv.most_similar([model.infer_vector(df.desc_clear[i].split())], topn = 30)\n",
    "    most_similar = np.unique([df.desc[i[0]] for i in ind])\n",
    "    N = min(10, len(most_similar))\n",
    "    for i in most_similar[:N]:\n",
    "        print(i)"
   ]
  },
  {
   "cell_type": "markdown",
   "id": "ef2f75d1",
   "metadata": {},
   "source": [
    "## Наиболее похожие (основываясь на кластеризации)"
   ]
  },
  {
   "cell_type": "code",
   "execution_count": 3,
   "id": "86b73d0f",
   "metadata": {},
   "outputs": [
    {
     "data": {
      "application/vnd.jupyter.widget-view+json": {
       "model_id": "ebba166637274275aae368127cef3f72",
       "version_major": 2,
       "version_minor": 0
      },
      "text/plain": [
       "interactive(children=(Dropdown(description='search_query', options=('   Москва\\\\t\\\\t\\\\t\\\\t\\\\t\\\\t\\\\t\\\\t  ЦАО\\\\t…"
      ]
     },
     "metadata": {},
     "output_type": "display_data"
    }
   ],
   "source": [
    "@interact\n",
    "def cluster_similar(search_query=queries):\n",
    "    cluster = df[df.desc == search_query].labels_kmeans.iloc[0]\n",
    "    most_similar = df[df.labels_kmeans == cluster].desc.unique()\n",
    "    N = min(10, len(most_similar))\n",
    "    for i in most_similar[:N]:\n",
    "        print(i)"
   ]
  },
  {
   "cell_type": "markdown",
   "id": "264288a4",
   "metadata": {},
   "source": [
    "## ChipSelect"
   ]
  },
  {
   "cell_type": "code",
   "execution_count": 4,
   "id": "ffb135b5",
   "metadata": {},
   "outputs": [
    {
     "data": {
      "application/vnd.jupyter.widget-view+json": {
       "model_id": "11c1367728734011adbf7e7a201f58cb",
       "version_major": 2,
       "version_minor": 0
      },
      "text/plain": [
       "interactive(children=(Dropdown(description='tag', options=('автосервис', 'автотрасса', 'ангар', 'арбат', 'арт'…"
      ]
     },
     "metadata": {},
     "output_type": "display_data"
    }
   ],
   "source": [
    "@interact\n",
    "def kek(tag=tags):\n",
    "    for i in range(df.shape[0]):\n",
    "        if tag in df.desc_clear[i].split():\n",
    "            print(df.desc[i])"
   ]
  },
  {
   "cell_type": "code",
   "execution_count": null,
   "id": "0c31b285",
   "metadata": {},
   "outputs": [],
   "source": []
  }
 ],
 "metadata": {
  "kernelspec": {
   "display_name": "Python 3",
   "language": "python",
   "name": "python3"
  },
  "language_info": {
   "codemirror_mode": {
    "name": "ipython",
    "version": 3
   },
   "file_extension": ".py",
   "mimetype": "text/x-python",
   "name": "python",
   "nbconvert_exporter": "python",
   "pygments_lexer": "ipython3",
   "version": "3.9.1"
  }
 },
 "nbformat": 4,
 "nbformat_minor": 5
}
