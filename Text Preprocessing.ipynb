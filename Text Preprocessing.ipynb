{
 "cells": [
  {
   "cell_type": "code",
   "execution_count": 1,
   "id": "9cdb95c5",
   "metadata": {},
   "outputs": [
    {
     "name": "stderr",
     "output_type": "stream",
     "text": [
      "C:\\Users\\Admin\\miniconda3\\lib\\site-packages\\gensim\\similarities\\__init__.py:15: UserWarning: The gensim.similarities.levenshtein submodule is disabled, because the optional Levenshtein package <https://pypi.org/project/python-Levenshtein/> is unavailable. Install Levenhstein (e.g. `pip install python-Levenshtein`) to suppress this warning.\n",
      "  warnings.warn(msg)\n"
     ]
    }
   ],
   "source": [
    "import pandas as pd\n",
    "import numpy as np\n",
    "import os\n",
    "import random\n",
    "from time import time\n",
    "\n",
    "import nltk\n",
    "# nltk.download(\"stopwords\")\n",
    "from nltk.corpus import stopwords\n",
    "from pymystem3 import Mystem\n",
    "from string import punctuation\n",
    "from gensim.parsing.preprocessing import preprocess_documents\n",
    "from gensim.parsing.preprocessing import preprocess_string\n",
    "import gensim.parsing.preprocessing as prep\n",
    "\n",
    "import re\n",
    "import gensim\n",
    "import itertools\n",
    "from gensim.similarities import MatrixSimilarity\n",
    "from gensim.models.doc2vec import Doc2Vec, TaggedDocument\n",
    "from collections import namedtuple\n",
    "from gensim.models import doc2vec"
   ]
  },
  {
   "cell_type": "code",
   "execution_count": 2,
   "id": "3b5c74ba",
   "metadata": {},
   "outputs": [
    {
     "name": "stdout",
     "output_type": "stream",
     "text": [
      "Количество описаний: 1884\n",
      "Количество уникальных: 1580\n",
      "Примеры описаний:\n"
     ]
    },
    {
     "data": {
      "text/plain": [
       "['Белоснежная парикмахерская, категории: Салоны красоты и частные клиники',\n",
       " 'Небольшая галерея с панорамными окнами.',\n",
       " 'Бизнес-центр с множеством переговорных комнат, категории: Кабинеты, переговорные Конференц-залы Арбат',\n",
       " 'панорамный банкетный зал, категории: Ночные клубы и бары Дорогомилово',\n",
       " 'Одноэтажный автосервис с синими стенами.  Химки',\n",
       " 'Торговая галерея , категории: ТЦ, магазины Гаражи и парковки Марьина Роща',\n",
       " 'Завод довоенной постройки, необычные конструктивистские корпуса, цеха в заброшеном состоянии, атмосфера довоенной промзоны, железнодорожные пути и платформы, атмосфера места, в котором ведутся боевые действия.  Москва\\t\\t\\t\\t\\t\\t\\t\\t  ЮВАО',\n",
       " '  Ангар для стоянки бизнес-джетов.  Москва\\\\t\\\\t\\\\t\\\\t\\\\t\\\\t\\\\t\\\\t  \\\\t\\\\t\\\\t\\\\t\\\\t\\\\t\\\\t\\\\t',\n",
       " 'Дом в стиле IKEA, категории: Загородные дома и таунхаусы',\n",
       " 'Неоновый демон, категории: Ночные клубы и бары Хамовники']"
      ]
     },
     "execution_count": 2,
     "metadata": {},
     "output_type": "execute_result"
    }
   ],
   "source": [
    "df = list(pd.read_csv('data.csv').descriptions)\n",
    "\n",
    "print(f'Количество описаний: {len(df)}')\n",
    "print(f'Количество уникальных: {len(np.unique(df))}')\n",
    "print(f'Примеры описаний:')\n",
    "random.sample(df, 10)"
   ]
  },
  {
   "cell_type": "code",
   "execution_count": 3,
   "id": "85c37094",
   "metadata": {},
   "outputs": [],
   "source": [
    "def preprocess_text(text):\n",
    "    tokens = mystem.lemmatize(text.lower())\n",
    "    text = \" \".join(token for token in tokens if token not in russian_stopwords\\\n",
    "              and token != \" \" and token.strip() not in punctuation and token != 't')\n",
    "    return text\n",
    "\n",
    "mystem = Mystem() \n",
    "russian_stopwords = stopwords.words(\"russian\")"
   ]
  },
  {
   "cell_type": "code",
   "execution_count": 4,
   "id": "daef0e49",
   "metadata": {},
   "outputs": [
    {
     "name": "stdout",
     "output_type": "stream",
     "text": [
      "Text preprocessing done! Time elapsed:2094.807636499405\n"
     ]
    }
   ],
   "source": [
    "# Возможно стоит еще убрать числа, тире и кавычки двойные\n",
    "descriptions, descriptions_clear = df, df\n",
    "\n",
    "time_start = time()\n",
    "for i in range(len(descriptions_clear)):\n",
    "    descriptions_clear[i] = preprocess_text(descriptions_clear[i])\n",
    "print(f'Text preprocessing done! Time elapsed:{time()-time_start}')"
   ]
  },
  {
   "cell_type": "code",
   "execution_count": 5,
   "id": "9c374853",
   "metadata": {},
   "outputs": [],
   "source": [
    "pd.DataFrame(descriptions_clear, columns=['description']).to_csv('preprocessed_data.csv', index=False)"
   ]
  },
  {
   "cell_type": "code",
   "execution_count": null,
   "id": "4025bfa9",
   "metadata": {},
   "outputs": [],
   "source": []
  }
 ],
 "metadata": {
  "kernelspec": {
   "display_name": "Python 3",
   "language": "python",
   "name": "python3"
  },
  "language_info": {
   "codemirror_mode": {
    "name": "ipython",
    "version": 3
   },
   "file_extension": ".py",
   "mimetype": "text/x-python",
   "name": "python",
   "nbconvert_exporter": "python",
   "pygments_lexer": "ipython3",
   "version": "3.9.1"
  }
 },
 "nbformat": 4,
 "nbformat_minor": 5
}
